{
  "nbformat": 4,
  "nbformat_minor": 0,
  "metadata": {
    "colab": {
      "name": "g-drive-mounting.ipynb",
      "provenance": [],
      "history_visible": true,
      "authorship_tag": "ABX9TyOqRi22kyKWaPv907QzqvPD",
      "include_colab_link": true
    },
    "kernelspec": {
      "name": "python3",
      "display_name": "Python 3"
    },
    "language_info": {
      "name": "python"
    }
  },
  "cells": [
    {
      "cell_type": "markdown",
      "metadata": {
        "id": "view-in-github",
        "colab_type": "text"
      },
      "source": [
        "<a href=\"https://colab.research.google.com/github/viyer-research/DepthAI-ReIdentification-EnsembleModel/blob/master/g_drive_mounting.ipynb\" target=\"_parent\"><img src=\"https://colab.research.google.com/assets/colab-badge.svg\" alt=\"Open In Colab\"/></a>"
      ]
    },
    {
      "cell_type": "code",
      "execution_count": 1,
      "metadata": {
        "colab": {
          "base_uri": "https://localhost:8080/"
        },
        "id": "cTXEeMUzCOO0",
        "outputId": "83c0dc21-8e9a-4ac1-cb5d-b42d4d55d8de"
      },
      "outputs": [
        {
          "output_type": "stream",
          "name": "stdout",
          "text": [
            "Mounted at /content/gdrive\n"
          ]
        }
      ],
      "source": [
        "from google.colab import drive\n",
        "drive.mount('/content/gdrive')\n",
        "\n"
      ]
    },
    {
      "cell_type": "code",
      "source": [
        "!cd gdrive/\n",
        "!ls gdrive/MyDrive/Classroom/yolov4-deepsort/"
      ],
      "metadata": {
        "colab": {
          "base_uri": "https://localhost:8080/"
        },
        "id": "ROnqtHPJCvbV",
        "outputId": "17305f0a-9872-4133-b808-91703340c1df"
      },
      "execution_count": null,
      "outputs": [
        {
          "output_type": "stream",
          "name": "stdout",
          "text": [
            "checkpoints\t\t\t   README.md\n",
            "conda-cpu.yml\t\t\t   requirements-gen-2.txt\n",
            "conda-gpu.yml\t\t\t   requirements-gpu.txt\n",
            "convert_tflite.py\t\t   requirements.txt\n",
            "convert_trt.py\t\t\t   save_model.py\n",
            "core\t\t\t\t   spatial_object_tracker.py\n",
            "data\t\t\t\t   tools\n",
            "deep_sort\t\t\t   tracker-vehicle-blob-log.txt\n",
            "gen-1-tracker-log.txt\t\t   vehicle-blob-2020-4.py\n",
            "gen2-vehicle-reid.py\t\t   vehicle-blob-2020-4-slow-fps.py\n",
            "LICENSE\t\t\t\t   vehicle-mobinet-2020-4-slow-fps.py\n",
            "mobile-ssd-vehicle-blob-2020-4.py  vehicle-mobinet-fastreid-2020-4.py\n",
            "model_data\t\t\t   Vehicle-Re-Id-deepsort.py\n",
            "OAK-deepsort.py\t\t\t   vehicle-yolo-2-2020-4-slow-fps.py\n",
            "object_tracker.py\t\t   venv\n",
            "object_tracker_video_RGB.py\t   yolo-tiny-vehicle-blob-2020-4.py\n",
            "outputs\n"
          ]
        }
      ]
    },
    {
      "cell_type": "code",
      "source": [
        "!ls gdrive/MyDrive/20200506_124418.jpg\n",
        "!ls gdrive/MyDrive/GSU-Tiger-252x300.jpg\n"
      ],
      "metadata": {
        "colab": {
          "base_uri": "https://localhost:8080/"
        },
        "id": "vWEy5TmOFUHb",
        "outputId": "c73f14c2-3d50-4959-977e-872934fbdc00"
      },
      "execution_count": 2,
      "outputs": [
        {
          "output_type": "stream",
          "name": "stdout",
          "text": [
            "gdrive/MyDrive/20200506_124418.jpg\n",
            "gdrive/MyDrive/GSU-Tiger-252x300.jpg\n"
          ]
        }
      ]
    },
    {
      "cell_type": "code",
      "source": [
        "import tensorflow as tf\n",
        "from keras.preprocessing import image\n",
        "import matplotlib.pyplot as plt\n",
        "\n",
        "path = \"gdrive/MyDrive/GSU-Tiger-252x300.jpg\"\n",
        "path = \"gdrive/MyDrive/GSU-Text-images.png\"\n",
        "Load_image = tf.keras.preprocessing.image.load_img(path)\n",
        "print(type(Load_image))\n",
        "print(Load_image.format)\n",
        "print(Load_image.mode)\n",
        "print(Load_image.size)\n",
        "Load_image.show()\n",
        "#print(Load_image)\n",
        "x = image.img_to_array(Load_image)\n",
        "print(type(x))\n",
        "print(x.shape)\n",
        "plt.imshow(x)"
      ],
      "metadata": {
        "colab": {
          "base_uri": "https://localhost:8080/",
          "height": 258
        },
        "id": "inrs45ncc5Dk",
        "outputId": "fee8fe7b-eddc-4e94-84df-075edb81a534"
      },
      "execution_count": 6,
      "outputs": [
        {
          "output_type": "stream",
          "name": "stderr",
          "text": [
            "Clipping input data to the valid range for imshow with RGB data ([0..1] for floats or [0..255] for integers).\n"
          ]
        },
        {
          "output_type": "stream",
          "name": "stdout",
          "text": [
            "<class 'PIL.Image.Image'>\n",
            "None\n",
            "RGB\n",
            "(500, 101)\n",
            "<class 'numpy.ndarray'>\n",
            "(101, 500, 3)\n"
          ]
        },
        {
          "output_type": "execute_result",
          "data": {
            "text/plain": [
              "<matplotlib.image.AxesImage at 0x7fda27e16190>"
            ]
          },
          "metadata": {},
          "execution_count": 6
        },
        {
          "output_type": "display_data",
          "data": {
            "image/png": "[encoded data removed]",
            "text/plain": [
              "<Figure size 432x288 with 1 Axes>"
            ]
          },
          "metadata": {
            "needs_background": "light"
          }
        }
      ]
    }
  ]
}